{
 "cells": [
  {
   "cell_type": "markdown",
   "id": "0fa3052f",
   "metadata": {},
   "source": [
    "# 1. Data Loading and Preprocessing\n",
    "\n",
    "In this section, we will load the data from provided URLs and perform some basic preprocessing steps. The datasets include gene expression data, mutation data, copy number variation data, and subtype covariates.\n",
    "\n",
    "##  🐼1.1Data Loading\n",
    "\n",
    "🐼`pandas` is a powerful Python library that supports loading, cleaning, analyzing, and visualizing structured data using its useful data structures and functions.\n",
    "\n",
    "We will load the following datasets from [https://raw.githubusercontent.com/WanbingZeng/OMINEX/main/data/ ]\n",
    "1. **Gene Expression Data (COREAD_gex.csv)**\n",
    "2. **Mutation Data (COREAD_mu.csv)**\n",
    "3. **Copy Number Variation Data (COREAD_cn.csv)**\n",
    "4. **Subtype Covariates (COREAD_subtypes.csv)**\n",
    "## 🐼1.1.1 Gene expression\n",
    "\n",
    "##### Example Code📋 \n",
    "\n",
    "```python\n",
    "import pandas as pd\n",
    "# Base URL for data download\n",
    "base_url = \"https://raw.githubusercontent.com/WanbingZeng/OMINEX/main/data/\"\n",
    "# Load Gene Expression Data\n",
    "x1 = pd.read_csv(base_url + \"COREAD_gex.csv\")\n",
    "# Display the DataFrame\n",
    "x1\n",
    "\n",
    "```\n",
    "##### ▶️ Please run the code below and see how `x1` looks like"
   ]
  },
  {
   "cell_type": "code",
   "execution_count": null,
   "id": "36e7ab22",
   "metadata": {},
   "outputs": [],
   "source": []
  },
  {
   "cell_type": "markdown",
   "id": "dfefe7ac",
   "metadata": {},
   "source": [
    "⚠️**We can see that the first column appears as `Unnamed: 0`, which indicates that simply using `pd.read_csv` does not fix the first row as the index. Therefore, we need set the first row as the index using  `index_col=0`.**\n",
    "\n",
    "⚠️**After loading the data, it is important to check the format of the data, including the row and column names.**\n",
    "#####  Now let us reload `COREAD_gex.csv` with `index_col=0`\n",
    "##### Example Code📋 \n",
    "```python\n",
    "# Load Gene Expression Data with index_col=0\n",
    "x1 = pd.read_csv(base_url + \"COREAD_gex.csv\",index_col=0)\n",
    "# Display the DataFrame\n",
    "x1\n",
    "```\n",
    "##### ▶️ Reload COREAD_gex.csv as `x1` \n",
    "\n"
   ]
  },
  {
   "cell_type": "code",
   "execution_count": null,
   "id": "4bd4c39e",
   "metadata": {},
   "outputs": [],
   "source": []
  },
  {
   "cell_type": "markdown",
   "id": "6b3805bb",
   "metadata": {},
   "source": [
    "\n",
    "\n",
    "The dataset provided contains gene expression levels across multiple cases. Each row represents a different gene, and each column corresponds to a different case or sample. The values in the matrix represent the expression level of each gene in each case. The values represent the expression levels of each gene in different cases. Higher values indicate higher gene expression.\n",
    "\n",
    "##### Data Structure\n",
    "\n",
    "- **Rows**: Each row represents a different **gene**\n",
    " `RNF113A`\n",
    " `S100A13`\n",
    " `AP3D1`\n",
    "\n",
    "- **Columns**: Each column represents a different **patient**\n",
    "   `Case1`\n",
    "  `Case2`\n",
    "  `Case3`\n"
   ]
  },
  {
   "cell_type": "markdown",
   "id": "d3937124",
   "metadata": {},
   "source": [
    "## 🐼1.1.2 Mutaion \n",
    "##### ▶️ Load **COREAD_mu.csv** as `x2`"
   ]
  },
  {
   "cell_type": "code",
   "execution_count": null,
   "id": "ec1cc7fc",
   "metadata": {},
   "outputs": [],
   "source": []
  },
  {
   "cell_type": "markdown",
   "id": "41f75c5a",
   "metadata": {},
   "source": [
    "#### Mutation Data Description\n",
    "\n",
    "In the mutation matrix, each row represents a different gene, and each column represents a different case or sample. The values in the matrix indicate the presence (`1`) or absence (`0`) of a mutation for each gene in each case.\n",
    "##### Data Structure\n",
    "\n",
    "- **Rows**: Each row corresponds to a **gene**:\n",
    "   `TTN`\n",
    "   `TP53`\n",
    "   `APC`\n",
    "\n",
    "\n",
    "- **Columns**: Each column represents a different **patient**\n",
    "  `Case1`  `Case2`  `Case3`\n",
    "\n",
    " \n"
   ]
  },
  {
   "cell_type": "markdown",
   "id": "2e51bbbc",
   "metadata": {},
   "source": [
    "## 🐼1.1.3 Copy Number Variation\n",
    "##### ▶️ load **COREAD_cn.csv** as `x3`"
   ]
  },
  {
   "cell_type": "code",
   "execution_count": null,
   "id": "dd07ad7c",
   "metadata": {},
   "outputs": [],
   "source": []
  },
  {
   "cell_type": "markdown",
   "id": "edc82273",
   "metadata": {},
   "source": [
    "In the CNV matrix, each row represents a different copy number variation (CNV) region, and each column represents a different case or sample. The values in the matrix indicate the presence (`1`) or absence (`0`) of a CNV for each region in each case.\n",
    "\n",
    "##### Data Structure\n",
    "\n",
    "- **Rows**: Each row corresponds to a **CNV region**:\n",
    "  `8p23.2`\n",
    "  `8p23.3`\n",
    "  `8p23.1`\n",
    "- **Columns**: Each column represents a different **patient**:\n",
    "  `Case1`\n",
    "  `Case2`\n",
    "  `Case3`\n"
   ]
  },
  {
   "cell_type": "markdown",
   "id": "1083f023",
   "metadata": {},
   "source": [
    "## 🐼1.1.4 Cancer subtypes\n",
    "These tumors belong to two molecular subtypes, CMS1 and CMS3, as defined by the Colorectal Cancer Subtyping Consortium.\n",
    "\n",
    "##### ▶️ load **COREAD_subtypes.csv** as `covariates`  \n"
   ]
  },
  {
   "cell_type": "code",
   "execution_count": null,
   "id": "f7a39b5c",
   "metadata": {},
   "outputs": [],
   "source": []
  },
  {
   "cell_type": "markdown",
   "id": "7a1abac0",
   "metadata": {},
   "source": [
    "The covariates matrix contains clinical and molecular information for each patient. Each row represents a different case, with columns providing details on demographics, clinical stage, mutation status, and molecular subtypes.\n",
    "\n",
    "##### Data Structure\n",
    "\n",
    "- **Rows**: Each row corresponds to a **patient**:\n",
    "   `Case1`\n",
    "   `Case2`\n",
    "   `Case3`\n",
    "\n",
    "- **Columns**: Each column represents a different type of information of the patients, in this project, we only use `subtypes`:\n",
    "  - `dataset`: Data source ( `tcga: the cancer genome atlas`)\n",
    "  - `age`: Patient's age\n",
    "  - `gender`: Patient's gender\n",
    "  - `stage`: Clinical stage of the disease\n",
    "  - `pt`: Tumor size\n",
    "  - `pn`: Regional lymph node involvement\n",
    "  - `pm`: Distant metastasis\n",
    "  - `tnm`: TNM classification\n",
    "  - `grade`: Tumor grade\n",
    "  - `msi`: Microsatellite instability status\n",
    "  - `cimp`: CpG island methylator phenotype\n",
    "  - `kras_mut`: KRAS mutation status\n",
    "  - `braf_mut`: BRAF mutation status\n",
    "  - <mark>**subtypes**</mark>: Molecular subtype (e.g., `CMS1`, `CMS3`)\n",
    "  - `osMo`: Overall survival months\n",
    "  - `osStat`: Overall survival status\n",
    "  - `rfsMo`: Recurrence-free survival months\n",
    "  - `rfsStat`: Recurrence-free survival status\n",
    "\n",
    "##### 🩺CMS1 and CMS3\n",
    "CMS1 and CMS3 are two of the four consensus molecular subtypes of colorectal cancer (CRC) identified by the Consensus Molecular Subtyping (CMS) project. Each is characterized by distinct molecular and clinical features.\n",
    " \n",
    "\n",
    "\n",
    " "
   ]
  },
  {
   "cell_type": "markdown",
   "id": "49fef9c3",
   "metadata": {},
   "source": [
    "## 1.2 Data preprocessing"
   ]
  }
 ],
 "metadata": {
  "kernelspec": {
   "display_name": "Python 3 (ipykernel)",
   "language": "python",
   "name": "python3"
  },
  "language_info": {
   "codemirror_mode": {
    "name": "ipython",
    "version": 3
   },
   "file_extension": ".py",
   "mimetype": "text/x-python",
   "name": "python",
   "nbconvert_exporter": "python",
   "pygments_lexer": "ipython3",
   "version": "3.11.5"
  }
 },
 "nbformat": 4,
 "nbformat_minor": 5
}
